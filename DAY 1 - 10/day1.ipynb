{
 "cells": [
  {
   "cell_type": "markdown",
   "metadata": {},
   "source": [
    "## DAY 1"
   ]
  },
  {
   "cell_type": "markdown",
   "metadata": {},
   "source": [
    "### PRINT"
   ]
  },
  {
   "cell_type": "code",
   "execution_count": 1,
   "metadata": {},
   "outputs": [
    {
     "name": "stdout",
     "output_type": "stream",
     "text": [
      "\n"
     ]
    }
   ],
   "source": [
    "print ()                         #blank print leaves a empty line"
   ]
  },
  {
   "cell_type": "code",
   "execution_count": 6,
   "metadata": {},
   "outputs": [
    {
     "name": "stdout",
     "output_type": "stream",
     "text": [
      "\n",
      " \n",
      "helo\n",
      "sec\n"
     ]
    }
   ],
   "source": [
    "print ('')                       #similar to blank print\n",
    "print (' ')                      #prints a blank space and stays on the line\n",
    "print ('helo' + '\\n' + 'sec')    #prints a newline"
   ]
  },
  {
   "cell_type": "markdown",
   "metadata": {},
   "source": [
    "### STRINGS"
   ]
  },
  {
   "cell_type": "code",
   "execution_count": 18,
   "metadata": {},
   "outputs": [
    {
     "name": "stdout",
     "output_type": "stream",
     "text": [
      "Hello Madara Uchiha\n",
      "Hello, Madara Uchiha\n"
     ]
    }
   ],
   "source": [
    "fname = \"Madara\"                             # creating a variable and assigning a value to it\n",
    "lname = \"Uchiha\"                             #                      \"\"\n",
    "print (\"Hello \" +fname+' '+lname)            # normal str concatenation\n",
    "print (\"Hello, {} {}\".format(fname,lname))   # {} is called as placeholders and the parameters passed are the variable names"
   ]
  },
  {
   "cell_type": "markdown",
   "metadata": {},
   "source": [
    "### BAND NAME GENERATOR"
   ]
  },
  {
   "cell_type": "code",
   "execution_count": 3,
   "metadata": {},
   "outputs": [
    {
     "name": "stdout",
     "output_type": "stream",
     "text": [
      "\u001b[91m\n",
      "                                 _                                        \n",
      "             _ __ __ _ _ __   __| | ___  _ __ ___         __ _  ___ _ __  \n",
      "            | '__/ _` | '_ \\ / _` |/ _ \\| '_ ` _ \\ _____ / _` |/ _ \\ '_ \\ \n",
      "            | | | (_| | | | | (_| | (_) | | | | | |_____| (_| |  __/ | | |\n",
      "            |_|  \\__,_|_| |_|\\__,_|\\___/|_| |_| |_|      \\__, |\\___|_| |_|\n",
      "                                                         |___/            \u001b[0m\u001b[93m\n",
      "    \n",
      " enter your name : muruganantham\n",
      " enter your fav anime character : sasikala\n",
      " enter your pet name : biju\n",
      "mljbqv22 is your band name\n"
     ]
    }
   ],
   "source": [
    "import random\n",
    "\n",
    "G = '\\033[92m'  # green\n",
    "Y = '\\033[93m'  # yellow\n",
    "B = '\\033[94m'  # blue\n",
    "R = '\\033[91m'  # red\n",
    "W = '\\033[0m'   # white\n",
    "def banner():\n",
    "    print(\"\"\"%s\n",
    "                                 _                                        \n",
    "             _ __ __ _ _ __   __| | ___  _ __ ___         __ _  ___ _ __  \n",
    "            | '__/ _` | '_ \\ / _` |/ _ \\| '_ ` _ \\ _____ / _` |/ _ \\ '_ \\ \n",
    "            | | | (_| | | | | (_| | (_) | | | | | |_____| (_| |  __/ | | |\n",
    "            |_|  \\__,_|_| |_|\\__,_|\\___/|_| |_| |_|      \\__, |\\___|_| |_|\n",
    "                                                         |___/            %s%s\n",
    "    \"\"\" % (R, W, Y))\n",
    "    \n",
    "banner()        \n",
    "\n",
    "name = input(\" enter your name : \")\n",
    "fav = input(\" enter your fav anime character : \")\n",
    "pet_name = input(\" enter your pet name : \") \n",
    "\n",
    "x = random.randint(1,len(fname))\n",
    "y = random.randint(1,len(fav))\n",
    "z = random.randint(1,len(pet_name))\n",
    "\n",
    "l = str(chr(random.randint(97,122)))\n",
    "m = str(chr(random.randint(97,122)))\n",
    "n = str(chr(random.randint(97,122)))\n",
    "\n",
    "if name and fav and pet_name != '':\n",
    "    rand = random.randint(1,50)\n",
    "    a = str(name[len(name) - x])\n",
    "    b = str(fav[len(fav) - y])\n",
    "    c = str(pet_name[len(pet_name) - z])\n",
    "    print(\"{}{}{}{}{}{}{} is your band name\".format(a,b,c,n,m,l,rand))\n",
    "else:\n",
    "    print (\" you've forgot to enter your inputs\")\n"
   ]
  }
 ],
 "metadata": {
  "kernelspec": {
   "display_name": "Python 3",
   "language": "python",
   "name": "python3"
  },
  "language_info": {
   "codemirror_mode": {
    "name": "ipython",
    "version": 3
   },
   "file_extension": ".py",
   "mimetype": "text/x-python",
   "name": "python",
   "nbconvert_exporter": "python",
   "pygments_lexer": "ipython3",
   "version": "3.8.5"
  }
 },
 "nbformat": 4,
 "nbformat_minor": 2
}
