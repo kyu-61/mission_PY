{
 "cells": [
  {
   "cell_type": "markdown",
   "metadata": {},
   "source": [
    "# Day 5 Goals: "
   ]
  },
  {
   "cell_type": "markdown",
   "metadata": {},
   "source": [
    "### Random Methods"
   ]
  },
  {
   "cell_type": "code",
   "execution_count": 46,
   "metadata": {},
   "outputs": [
    {
     "name": "stdout",
     "output_type": "stream",
     "text": [
      "0.4523795535098186\n",
      "8\n",
      "8\n",
      "877\n",
      "[924]\n",
      "['balaji', 'vijay', 'biju', 'violet', 'bruno']\n",
      "['vijay', 'violet', 'biju']\n",
      "0.6139588340593641\n",
      "1.74469\n"
     ]
    }
   ],
   "source": [
    "import random\n",
    "\n",
    "random.seed(11)                            # to generate a random number and fix the value for the given seed arg.\n",
    "print(random.random())\n",
    "\n",
    "state = random.getstate()                  # to get the state of the a random number \n",
    "a = random.randint(0,10)\n",
    "print(a)\n",
    "random.setstate(state)                     # to set the state of the captured state\n",
    "b = random.randint(0,10)\n",
    "print(b)\n",
    "\n",
    "c = list(range(0,1000))\n",
    "e = random.choice(c)                       # Returns a random element from the given sequence\n",
    "d = random.choices(c)                      # returns a list with the randomly selected element from the specified sequence.\n",
    "print(e)\n",
    "print(d)\n",
    "\n",
    "\n",
    "f = [\"vijay\",\"balaji\",\"biju\",\"bruno\",\"violet\"]     # Takes a sequence and returns the sequence in a random order,changes the sequence of original sequence\n",
    "random.shuffle(f)\n",
    "print(f)\n",
    "\n",
    "print(random.sample(f,k=3))                     # method returns a lis+"
   ]
  },
  {
   "cell_type": "markdown",
   "metadata": {},
   "source": [
    "### Appending Items to Lists\n"
   ]
  },
  {
   "cell_type": "code",
   "execution_count": 67,
   "metadata": {},
   "outputs": [
    {
     "name": "stdout",
     "output_type": "stream",
     "text": [
      "['luffy', 'zoro', 'nami', 'ussop', 'chopper']\n",
      "['luffy', 'zoro', 'nami', 'ussop', 'chopper', 'franky', 'brook']\n",
      "['luffy', 'zoro', 'nami', 'ussop', 'chopper', 'jimbei', 'sanji', 'robin']\n"
     ]
    }
   ],
   "source": [
    "straw_hats = ['luffy','zoro','nami','ussop']\n",
    "\n",
    "for i in [\"chopper\"]:\n",
    "    straw_hats.append(i)\n",
    "    print(straw_hats)\n",
    "\n",
    "print(straw_hats + ['franky','brook'])\n",
    "\n",
    "rest = \"jimbei,sanji,robin\"\n",
    "split_r = rest.split(',')\n",
    "straw_hats.extend(split_r)\n",
    "print(straw_hats)"
   ]
  },
  {
   "cell_type": "markdown",
   "metadata": {},
   "source": [
    "### Understanding the Offset"
   ]
  },
  {
   "cell_type": "markdown",
   "metadata": {},
   "source": [
    "### Banker Roulette - Who will pay the bill?"
   ]
  },
  {
   "cell_type": "code",
   "execution_count": 1,
   "metadata": {},
   "outputs": [
    {
     "name": "stdout",
     "output_type": "stream",
     "text": [
      " Enter each person? [separate each person by comma] vijay,balaji,roger,luffy,zoro,ussop\n",
      "balaji should pay the bill tonight\n"
     ]
    }
   ],
   "source": [
    "import random\n",
    "\n",
    "names = input(\" Enter each person? [separate each person by comma] \")\n",
    "split_n = names.split(\",\")\n",
    "aa = list(split_n)\n",
    "person = aa[random.randint(0,len(aa))]\n",
    "print(f\"{person} should pay the bill tonight\")\n",
    "\n"
   ]
  },
  {
   "cell_type": "markdown",
   "metadata": {},
   "source": [
    "### IndexErrors and Working with Nested Lists\n",
    "\n",
    "Index Error arises when the index size exceeds than the size of the list.\n"
   ]
  },
  {
   "cell_type": "code",
   "execution_count": 7,
   "metadata": {},
   "outputs": [
    {
     "name": "stdout",
     "output_type": "stream",
     "text": [
      "['1', '2', '3', ['a', 'b,', 'c'], '4', '5', '6']\n",
      "b,\n"
     ]
    }
   ],
   "source": [
    "# Nested List\n",
    "list_1 = ['1','2','3',['a','b,','c']]\n",
    "list_2 = ['4','5','6']\n",
    "list_3 = list_1 + list_2\n",
    "print(list_3)\n",
    "print(list_3[3][1])"
   ]
  },
  {
   "cell_type": "markdown",
   "metadata": {},
   "source": [
    "### Day 4 Project: Rock Paper Scissors"
   ]
  },
  {
   "cell_type": "code",
   "execution_count": null,
   "metadata": {},
   "outputs": [],
   "source": [
    "import random\n",
    "\n",
    "print(\"\"\"\n",
    "        INSTRUCTION:\n",
    "            This is a best of 5 match.\n",
    "            1. Press r for rock 👊\n",
    "            2. Press p for paper 🖐\n",
    "            3. Press s for scissors ✂️\n",
    "\"\"\")\n",
    "\n",
    "list_ = ['👊','🖐','✂️']\n",
    "    \n",
    "name = input(\"Enter Your Name : \")\n",
    "print()\n",
    "print(f\" BOT    vs   {name}\")\n",
    "print(\"-\" * (12 + len(name)+2))\n",
    "\n",
    "for i in range(0,5):\n",
    "    rand = random.randint(0,len(list_) - 1)\n",
    "    bot = list_[rand]\n",
    "    op = input(\"\")\n",
    "    if op == 'r':\n",
    "        print(f\" {bot}            {list_[0]}\")\n",
    "    elif op == 's':\n",
    "        print(f\" {bot}            {list_[2]}\")\n",
    "    elif op == 'p':\n",
    "        print(f\" {bot}            {list_[1]}\")\n",
    "    else:\n",
    "        print(\" you've pressed wrong key\")"
   ]
  }
 ],
 "metadata": {
  "kernelspec": {
   "display_name": "Python 3",
   "language": "python",
   "name": "python3"
  }
 },
 "nbformat": 4,
 "nbformat_minor": 4
}
