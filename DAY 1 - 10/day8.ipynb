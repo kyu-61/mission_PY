{
 "cells": [
  {
   "cell_type": "code",
   "execution_count": 2,
   "id": "1e83aa3c",
   "metadata": {},
   "outputs": [
    {
     "name": "stdout",
     "output_type": "stream",
     "text": [
      "Hello\n",
      "world\n"
     ]
    }
   ],
   "source": [
    "#funtion with no argument/parameter\n",
    "def greet():\n",
    "    print(\"Hello\")\n",
    "    print(\"world\")\n",
    "greet()"
   ]
  },
  {
   "cell_type": "code",
   "execution_count": 4,
   "id": "c1bc7d30",
   "metadata": {},
   "outputs": [
    {
     "name": "stdout",
     "output_type": "stream",
     "text": [
      "Hello Vijay\n"
     ]
    }
   ],
   "source": [
    "#function with arg passed\n",
    "def greet_name(name):\n",
    "   print(f\"Hello {name}\")\n",
    "greet_name(\"Vijay\")\n"
   ]
  },
  {
   "cell_type": "code",
   "execution_count": 5,
   "id": "4494469a",
   "metadata": {},
   "outputs": [
    {
     "name": "stdout",
     "output_type": "stream",
     "text": [
      "Hello Vijay\n",
      "you're from CBE\n",
      "Hello Vijay\n",
      "you're from CBE\n"
     ]
    }
   ],
   "source": [
    "#function with 1 more arg\n",
    "def greet_with(name,loc):\n",
    "   print(f\"Hello {name}\")\n",
    "   print(f\"you're from {loc}\")\n",
    "greet_with(\"Vijay\",\"CBE\") # positional arg    \n",
    "greet_with(name = \"Vijay\",loc = \"CBE\") # keyword arg"
   ]
  },
  {
   "cell_type": "markdown",
   "id": "741b434e",
   "metadata": {},
   "source": [
    "## Paint area calculator"
   ]
  },
  {
   "cell_type": "code",
   "execution_count": 14,
   "id": "90f2064f",
   "metadata": {},
   "outputs": [
    {
     "name": "stdout",
     "output_type": "stream",
     "text": [
      "Enter Height : 12\n",
      "Enter width : 24\n",
      "You will need 58 cans of paint\n"
     ]
    }
   ],
   "source": [
    "from math import ceil\n",
    "\n",
    "def paint_area(height,width,coverage):\n",
    "    area = height * width\n",
    "    no_of_cans = ceil(area / coverage)\n",
    "    print(f\"You will need {no_of_cans} cans of paint\")\n",
    "    \n",
    "h = int(input(\"Enter Height : \"))\n",
    "w = int(input(\"Enter width : \"))\n",
    "c = 5\n",
    "paint_area(height=h,width=w,coverage=c)\n"
   ]
  },
  {
   "cell_type": "markdown",
   "id": "5373437b",
   "metadata": {},
   "source": [
    "## Prime Number Checker"
   ]
  },
  {
   "cell_type": "code",
   "execution_count": 39,
   "id": "4f91ad17",
   "metadata": {},
   "outputs": [
    {
     "name": "stdout",
     "output_type": "stream",
     "text": [
      "Enter the number to check : 107\n",
      "a Prime Number\n"
     ]
    }
   ],
   "source": [
    "def prime_checker(number):\n",
    "    is_prime = True\n",
    "    for i in range(2,number-1):\n",
    "        if (n % i) == 0:\n",
    "            is_prime = False\n",
    "    if is_prime:\n",
    "        print(\"a Prime Number\")\n",
    "    else:\n",
    "        print(\"Not a prime number\")\n",
    "    \n",
    "n = int(input(\"Enter the number to check : \"))\n",
    "prime_checker(number = n)"
   ]
  },
  {
   "cell_type": "markdown",
   "id": "76df24fc",
   "metadata": {},
   "source": [
    "## PROJECT - CAESAR CIPHER "
   ]
  },
  {
   "cell_type": "code",
   "execution_count": 139,
   "id": "c137e35f",
   "metadata": {},
   "outputs": [
    {
     "name": "stdout",
     "output_type": "stream",
     "text": [
      "Enter the message : hqfrgh\n",
      "Encode / Decode : decode\n",
      "Enter the shift factor : 3\n",
      "encode\n"
     ]
    }
   ],
   "source": [
    "def banner():\n",
    "    print('''\n",
    "                                       _       _               \n",
    "  ___ __ _  ___  ___  __ _ _ __    ___(_)_ __ | |__   ___ _ __ \n",
    " / __/ _` |/ _ \\/ __|/ _` | '__|  / __| | '_ \\| '_ \\ / _ \\ '__|\n",
    "| (_| (_| |  __/\\__ \\ (_| | |    | (__| | |_) | | | |  __/ |   \n",
    " \\___\\__,_|\\___||___/\\__,_|_|     \\___|_| .__/|_| |_|\\___|_|   \n",
    "                                        |_|                    \n",
    "\n",
    "\n",
    "''')\n",
    "\n",
    "def cipher(message,opr,shift):\n",
    "    if opr == 'encode':       \n",
    "        enc = []\n",
    "        for i in msg:\n",
    "            enc.append(i)\n",
    "        enc_ = []\n",
    "        conv = []\n",
    "        for letter in enc:\n",
    "            keyed = ord(letter) + shift\n",
    "            enc_.append(keyed)\n",
    "        for char in enc_:\n",
    "            conn = chr(char)\n",
    "            conv.append(conn)\n",
    "        encrypt = \"\"\n",
    "        for joint in conv:\n",
    "            encrypt += joint\n",
    "        print(f\"your encoded message {encrypt}\")\n",
    "    elif opr == 'decode':\n",
    "        dec = []\n",
    "        conv = []\n",
    "        for i in msg:\n",
    "            dec.append(i)\n",
    "        dec_ = []\n",
    "        for letter in dec:\n",
    "            keyed = ord(letter) - shift\n",
    "            dec_.append(keyed)\n",
    "        for char in dec_:\n",
    "            conn = chr(char)\n",
    "            conv.append(conn)\n",
    "        decrypt = \"\"\n",
    "        for joint in conv:\n",
    "            decrypt += joint\n",
    "        print(f\"your encoded message {decrypt}\")\n",
    "    else:\n",
    "        pass\n",
    "\n",
    "banner()\n",
    "msg = input(\"Enter the message : \")\n",
    "operation = input(\"Encode / Decode : \")\n",
    "key = int(input(\"Enter the shift factor : \"))\n",
    "cipher(message = msg,opr = operation, shift = key)\n"
   ]
  }
 ],
 "metadata": {
  "kernelspec": {
   "display_name": "Python 3",
   "language": "python",
   "name": "python3"
  },
  "language_info": {
   "codemirror_mode": {
    "name": "ipython",
    "version": 3
   },
   "file_extension": ".py",
   "mimetype": "text/x-python",
   "name": "python",
   "nbconvert_exporter": "python",
   "pygments_lexer": "ipython3",
   "version": "3.8.5"
  }
 },
 "nbformat": 4,
 "nbformat_minor": 5
}
