{
 "cells": [
  {
   "cell_type": "markdown",
   "metadata": {},
   "source": [
    "# Day 6"
   ]
  },
  {
   "cell_type": "markdown",
   "metadata": {},
   "source": [
    "### Using the for loop with Python Lists and range() function"
   ]
  },
  {
   "cell_type": "code",
   "execution_count": 1,
   "metadata": {},
   "outputs": [
    {
     "name": "stdout",
     "output_type": "stream",
     "text": [
      "0 1 2 3 4 5 6 7 8 9 \n",
      "0 1 2 3 4 5 6 7 8 9 \n",
      "[1, 2, 3, 4, 5, 6, 7, 8, 9, 10]\n"
     ]
    }
   ],
   "source": [
    "mylist = ['0','1','2','3','4','5','6','7','8','9']\n",
    "\n",
    "for i in mylist:               #traverse through list and print every value\n",
    "    print(i,end=\" \")\n",
    "\n",
    "print()\n",
    "for i in range(0,10):           # same as the above\n",
    "    print(i,end=\" \")\n",
    "print()\n",
    "a=[]\n",
    "for i in range(1,11):\n",
    "    a.append(i)\n",
    "print(a)\n"
   ]
  },
  {
   "cell_type": "markdown",
   "metadata": {},
   "source": [
    "### Average Height"
   ]
  },
  {
   "cell_type": "code",
   "execution_count": 21,
   "metadata": {},
   "outputs": [
    {
     "name": "stdout",
     "output_type": "stream",
     "text": [
      " enter heights : [separate by comma]  180,182,190,192,167\n",
      "182\n"
     ]
    }
   ],
   "source": [
    "height = input(\" enter heights : [separate by comma]  \")\n",
    "#print(height)\n",
    "a = height.split(\",\")\n",
    "#print(len(a))\n",
    "b = 0\n",
    "\n",
    "for i in range(0,len(a)):\n",
    "    b =  b + int(a[i])                      #to store the value and perform summation\n",
    "    avg = b/len(a)\n",
    "print(int(avg))"
   ]
  },
  {
   "cell_type": "markdown",
   "metadata": {},
   "source": [
    "### Adding Even Numbers"
   ]
  },
  {
   "cell_type": "code",
   "execution_count": 3,
   "metadata": {},
   "outputs": [
    {
     "name": "stdout",
     "output_type": "stream",
     "text": [
      "enter length : 10000\n",
      "24995000\n"
     ]
    }
   ],
   "source": [
    "n = input(\"enter length : \")\n",
    "a = 0\n",
    "for i in range(0,int(n)):\n",
    "    if i % 2 == 0:\n",
    "        a = a + i\n",
    "print(a)\n",
    "    "
   ]
  },
  {
   "cell_type": "markdown",
   "metadata": {},
   "source": [
    "### Highest Score"
   ]
  },
  {
   "cell_type": "code",
   "execution_count": 14,
   "metadata": {},
   "outputs": [
    {
     "name": "stdout",
     "output_type": "stream",
     "text": [
      "Enter value: 123,23\n",
      "23\n"
     ]
    }
   ],
   "source": [
    "score = input(\"Enter value: \")\n",
    "score_ = score.split(\",\")\n",
    "for i in range(0,len(score_)):\n",
    "    start = 0\n",
    "    if int(score_[i]) > start:\n",
    "        start = int(score_[i])\n",
    "       # print(score_[i])\n",
    "    else:\n",
    "        print(start)\n",
    "print(start)"
   ]
  },
  {
   "cell_type": "markdown",
   "metadata": {},
   "source": [
    "### The FizzBuzz Job Interview Question"
   ]
  },
  {
   "cell_type": "code",
   "execution_count": 2,
   "metadata": {},
   "outputs": [
    {
     "name": "stdout",
     "output_type": "stream",
     "text": [
      "1\n",
      "2\n",
      "3 : fizz\n",
      "4\n",
      "5 : buzz\n",
      "6 : fizz\n",
      "7\n",
      "8\n",
      "9 : fizz\n",
      "10 : buzz\n",
      "11\n",
      "12 : fizz\n",
      "13\n",
      "14\n",
      "15 : fizz buzz\n",
      "16\n",
      "17\n",
      "18 : fizz\n",
      "19\n",
      "20 : buzz\n",
      "21 : fizz\n",
      "22\n",
      "23\n",
      "24 : fizz\n",
      "25 : buzz\n",
      "26\n",
      "27 : fizz\n",
      "28\n",
      "29\n",
      "30 : fizz buzz\n",
      "31\n",
      "32\n",
      "33 : fizz\n",
      "34\n",
      "35 : buzz\n",
      "36 : fizz\n",
      "37\n",
      "38\n",
      "39 : fizz\n",
      "40 : buzz\n",
      "41\n",
      "42 : fizz\n",
      "43\n",
      "44\n",
      "45 : fizz buzz\n",
      "46\n",
      "47\n",
      "48 : fizz\n",
      "49\n",
      "50 : buzz\n",
      "51 : fizz\n",
      "52\n",
      "53\n",
      "54 : fizz\n",
      "55 : buzz\n",
      "56\n",
      "57 : fizz\n",
      "58\n",
      "59\n",
      "60 : fizz buzz\n",
      "61\n",
      "62\n",
      "63 : fizz\n",
      "64\n",
      "65 : buzz\n",
      "66 : fizz\n",
      "67\n",
      "68\n",
      "69 : fizz\n",
      "70 : buzz\n",
      "71\n",
      "72 : fizz\n",
      "73\n",
      "74\n",
      "75 : fizz buzz\n",
      "76\n",
      "77\n",
      "78 : fizz\n",
      "79\n",
      "80 : buzz\n",
      "81 : fizz\n",
      "82\n",
      "83\n",
      "84 : fizz\n",
      "85 : buzz\n",
      "86\n",
      "87 : fizz\n",
      "88\n",
      "89\n",
      "90 : fizz buzz\n",
      "91\n",
      "92\n",
      "93 : fizz\n",
      "94\n",
      "95 : buzz\n",
      "96 : fizz\n",
      "97\n",
      "98\n",
      "99 : fizz\n"
     ]
    }
   ],
   "source": [
    "for i in range(1,100):\n",
    "    if (i % 3 == 0) and (i % 5 == 0):\n",
    "        print(f\"{i} : fizz buzz\")\n",
    "    elif (i % 3) == 0:\n",
    "        print(f\"{i} : fizz\")\n",
    "    elif (i % 5)== 0:\n",
    "        print(f\"{i} : buzz\")\n",
    "    else:\n",
    "        print(i)"
   ]
  },
  {
   "cell_type": "markdown",
   "metadata": {},
   "source": [
    "### Day 5 Project: Create a Password Generator"
   ]
  },
  {
   "cell_type": "code",
   "execution_count": 55,
   "metadata": {},
   "outputs": [
    {
     "name": "stdout",
     "output_type": "stream",
     "text": [
      "enter password length : 13\n",
      "u14CsmIy=@P~i\n"
     ]
    }
   ],
   "source": [
    "import random\n",
    "\n",
    "passwd = []\n",
    "n = int(input(\"enter password length : \"))\n",
    "for i in range (0,n):\n",
    "    a = chr(random.randint(48,127))\n",
    "    passwd.append(a)\n",
    "    passwd_to_str = ''.join(passwd)\n",
    "print(passwd_to_str)"
   ]
  }
 ],
 "metadata": {
  "kernelspec": {
   "display_name": "Python 3",
   "language": "python",
   "name": "python3"
  },
  "language_info": {
   "codemirror_mode": {
    "name": "ipython",
    "version": 3
   },
   "file_extension": ".py",
   "mimetype": "text/x-python",
   "name": "python",
   "nbconvert_exporter": "python",
   "pygments_lexer": "ipython3",
   "version": "3.8.5"
  }
 },
 "nbformat": 4,
 "nbformat_minor": 4
}
