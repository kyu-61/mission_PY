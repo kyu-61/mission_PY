{
 "cells": [
  {
   "cell_type": "markdown",
   "id": "5c592af2",
   "metadata": {},
   "source": [
    "# Day 9 "
   ]
  },
  {
   "cell_type": "markdown",
   "id": "ef4e85f8",
   "metadata": {},
   "source": [
    "## Dictionary"
   ]
  },
  {
   "cell_type": "code",
   "execution_count": 11,
   "id": "c074edb7",
   "metadata": {},
   "outputs": [
    {
     "name": "stdout",
     "output_type": "stream",
     "text": [
      "It is one\n",
      "numeric 1\n",
      "------------------------------------------------------------------------------------------------------------------\n",
      "{'one': 'It is one', 'two': 'It is two', 'three': 'It is three', 1: 'numeric 1', 2: 'numeric 2'}\n",
      "------------------------------------------------------------------------------------------------------------------\n",
      "{'one': 'It is one-1', 'two': 'It is two', 'three': 'It is three', 1: 'numeric 1', 2: 'numeric 2'}\n",
      "------------------------------------------------------------------------------------------------------------------\n",
      "one\n",
      "It is one-1\n",
      "two\n",
      "It is two\n",
      "three\n",
      "It is three\n",
      "1\n",
      "numeric 1\n",
      "2\n",
      "numeric 2\n",
      "------------------------------------------------------------------------------------------------------------------\n",
      "{1: 'one', 2: 'two', 3: 'three'}\n",
      "{}\n"
     ]
    }
   ],
   "source": [
    "my_dict = {\n",
    "    \"one\": \"It is one\",\n",
    "    \"two\": \"It is two\",\n",
    "    \"three\": \"It is three\",\n",
    "    1: \"numeric 1\"\n",
    "}\n",
    "\n",
    "print(my_dict[\"one\"])\n",
    "print(my_dict[1])\n",
    "print(\"-\"*114)\n",
    "\n",
    "#adding new item to the dict\n",
    "my_dict[2] = 'numeric 2'\n",
    "print(my_dict)\n",
    "print(\"-\"*114)\n",
    "\n",
    "#editing items\n",
    "my_dict[\"one\"] = \"It is one-1\"\n",
    "print(my_dict)\n",
    "print(\"-\"*114)\n",
    "\n",
    "#loop through the key\n",
    "for key in my_dict:\n",
    "    print(key)\n",
    "    print(my_dict[key])\n",
    "print(\"-\"*114)\n",
    "\n",
    "# wiping an entire dict\n",
    "dict_ = {\n",
    "    1: \"one\",\n",
    "    2: \"two\",\n",
    "    3: \"three\"\n",
    "}\n",
    "print(dict_)\n",
    "dict_ = {}\n",
    "print(dict_)"
   ]
  },
  {
   "cell_type": "markdown",
   "id": "dc900303",
   "metadata": {},
   "source": [
    "## Grading System - Exercise"
   ]
  },
  {
   "cell_type": "code",
   "execution_count": 17,
   "id": "c7b62aed",
   "metadata": {},
   "outputs": [
    {
     "name": "stdout",
     "output_type": "stream",
     "text": [
      "{'luffy': 'Exceeds Expectations', 'zoro': 'Exceeds Expectations', 'ussop': 'Exceeds Expectations', 'nami': 'Exceeds Expectations', 'chopper': 'Out Standing', 'sanji': 'Acceptable', 'franky': 'Fail'}\n"
     ]
    }
   ],
   "source": [
    "student_scores = {\n",
    "    \"luffy\": 82,\n",
    "    \"zoro\": 83,\n",
    "    \"ussop\": 90,\n",
    "    \"nami\": 87,\n",
    "    \"chopper\": 93,\n",
    "    \"sanji\": 73,\n",
    "    \"franky\": 50\n",
    "}\n",
    "\n",
    "student_grades = {}\n",
    "\n",
    "for student in student_scores:\n",
    "    if student_scores[student] > 91:\n",
    "        student_grades[student] = \"Out Standing\"\n",
    "    elif student_scores[student] > 81:\n",
    "        student_grades[student] = \"Exceeds Expectations\"\n",
    "    elif student_scores[student] > 71:\n",
    "        student_grades[student] = \"Acceptable\"\n",
    "    else:\n",
    "        student_grades[student] = \"Fail\"\n",
    "        \n",
    "print(student_grades)\n"
   ]
  },
  {
   "cell_type": "markdown",
   "id": "1da1a3c1",
   "metadata": {},
   "source": [
    "## Nesting lists and dictionaries"
   ]
  },
  {
   "cell_type": "code",
   "execution_count": 41,
   "id": "3e27c32b",
   "metadata": {},
   "outputs": [
    {
     "name": "stdout",
     "output_type": "stream",
     "text": [
      "{'france': ['Paris', 'Lille', 'Dijon']}\n",
      "{'cities_visited': ['Coimbatore', 'Chennai', 'Bangalore']} <class 'dict'>\n",
      "['Coimbatore', 'Chennai', 'Bangalore'] <class 'list'>\n",
      "['Florida'] <class 'list'>\n"
     ]
    }
   ],
   "source": [
    "cities = {\n",
    "        \"France\": {\"france\":[\"Paris\",\"Lille\",\"Dijon\"]},   #nesting a dict in dict\n",
    "        \"India\": {\"cities_visited\":[\"Coimbatore\",\"Chennai\",\"Bangalore\"],},\n",
    "        \"America\": [\"Florida\"]  #nesting a list in dict\n",
    "}\n",
    "\n",
    "print(cities[\"France\"])\n",
    "print(cities[\"India\"],type(cities[\"India\"]))\n",
    "print(cities[\"India\"]['cities_visited'], type(cities[\"India\"]['cities_visited']))\n",
    "print(cities[\"America\"], type(cities[\"America\"]))"
   ]
  },
  {
   "cell_type": "markdown",
   "id": "72ecd63b",
   "metadata": {},
   "source": [
    "## Exercise - Dict in List"
   ]
  },
  {
   "cell_type": "code",
   "execution_count": 47,
   "id": "a95f9492",
   "metadata": {},
   "outputs": [
    {
     "name": "stdout",
     "output_type": "stream",
     "text": [
      "[{'country': 'India', 'visits': 12, 'cities': ['Coimbatore', 'Chennai', 'Bangalore']}, {'country': 'France', 'visits': 10, 'cities': ['Paris', 'Lille', 'Dijon']}, {'country': 'Russia', 'visits': 2, 'cities': ['Moscow', 'saint Petersburg']}]\n"
     ]
    }
   ],
   "source": [
    "travel_log = [\n",
    "    {\n",
    "        \"country\": \"India\",\n",
    "        \"visits\": 12,\n",
    "        \"cities\": [\"Coimbatore\",\"Chennai\",\"Bangalore\"],\n",
    "    },\n",
    "    {\n",
    "        \"country\": \"France\",\n",
    "        \"visits\": 10,\n",
    "        \"cities\": [\"Paris\",\"Lille\",\"Dijon\"],\n",
    "    },\n",
    "]\n",
    "\n",
    "def add_new_country(country,visits,cities):\n",
    "    new_country = {}\n",
    "    new_country[\"country\"] = country\n",
    "    new_country[\"visits\"] = visits\n",
    "    new_country[\"cities\"] = cities\n",
    "    \n",
    "    travel_log.append(new_country)\n",
    "    \n",
    "add_new_country(\"Russia\",2,[\"Moscow\",\"saint Petersburg\"])\n",
    "print(travel_log)"
   ]
  },
  {
   "cell_type": "markdown",
   "id": "4060df05",
   "metadata": {},
   "source": [
    "## Project - Blind Auction\n"
   ]
  },
  {
   "cell_type": "code",
   "execution_count": 11,
   "id": "0952ab01",
   "metadata": {},
   "outputs": [
    {
     "name": "stdout",
     "output_type": "stream",
     "text": [
      "Enter bidder Name : vijay\n",
      "Enter bid : 3\n",
      "Is there any other bidder : [y/n]n\n",
      "The Highest Bidder is vijay\n"
     ]
    }
   ],
   "source": [
    "auction = {}\n",
    "\n",
    "def dict_(b_name,b_amt):\n",
    "    auction[b_name] = b_amt\n",
    "\n",
    "def details():\n",
    "    name = input(\"Enter bidder Name : \")\n",
    "    amt = int(input(\"Enter bid : \"))\n",
    "    dict_(name,amt)\n",
    "    again = input(\"Is there any other bidder : [y/n]\")\n",
    "    if again == 'y':\n",
    "        details()\n",
    "    else:\n",
    "        key_list = list(auction.keys())\n",
    "        val_list = list(auction.values())        \n",
    "        start = 0\n",
    "        for high in range(0,len(val_list)):\n",
    "            if val_list[high] > start:\n",
    "                start = val_list[high]\n",
    "        position = val_list.index(start)\n",
    "        winner = key_list[position]\n",
    "        print(f\"The Highest Bidder is {winner}\")\n",
    "        \n",
    "details()"
   ]
  }
 ],
 "metadata": {
  "kernelspec": {
   "display_name": "Python 3",
   "language": "python",
   "name": "python3"
  },
  "language_info": {
   "codemirror_mode": {
    "name": "ipython",
    "version": 3
   },
   "file_extension": ".py",
   "mimetype": "text/x-python",
   "name": "python",
   "nbconvert_exporter": "python",
   "pygments_lexer": "ipython3",
   "version": "3.8.5"
  }
 },
 "nbformat": 4,
 "nbformat_minor": 5
}
