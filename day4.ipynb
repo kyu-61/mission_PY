{
 "cells": [
  {
   "cell_type": "markdown",
   "metadata": {},
   "source": [
    "# DAY 4\n",
    "\n",
    "## Control Flow with if / else and Conditional Operators"
   ]
  },
  {
   "cell_type": "markdown",
   "metadata": {},
   "source": [
    " It is used to get a result when the given condition is true / false \\\n",
    " statements : if , else , elif , nested if and if...else\n",
    "  "
   ]
  },
  {
   "cell_type": "code",
   "execution_count": 1,
   "metadata": {},
   "outputs": [
    {
     "name": "stdout",
     "output_type": "stream",
     "text": [
      "True\n",
      "AND passed\n",
      "b > a\n"
     ]
    }
   ],
   "source": [
    "a = 5\n",
    "b = 10\n",
    "c = 15\n",
    "\n",
    "if a == 5:\n",
    "    print(\"True\")\n",
    "else: \n",
    "    print(\"False\")\n",
    "    \n",
    "if a != b and b != c :\n",
    "    print(\"AND passed\")\n",
    "elif a < b or b > c :\n",
    "    print(\"OR passed\")\n",
    "else:\n",
    "    print(\"else passed\")\n",
    "    \n",
    "if a != \"\":\n",
    "    if b > a:\n",
    "        print(\"b > a\")\n",
    "    else:\n",
    "        print(\"b < a\")\n",
    "else:\n",
    "    print(\"not entered\")"
   ]
  },
  {
   "cell_type": "code",
   "execution_count": 6,
   "metadata": {},
   "outputs": [
    {
     "name": "stdout",
     "output_type": "stream",
     "text": [
      "odd\n"
     ]
    }
   ],
   "source": [
    "# odd or even \n",
    "if 21 % 2 == 0:\n",
    "    print(\"even\")\n",
    "else:\n",
    "    print(\"odd\")"
   ]
  },
  {
   "cell_type": "code",
   "execution_count": 10,
   "metadata": {},
   "outputs": [
    {
     "name": "stdout",
     "output_type": "stream",
     "text": [
      "enter login id : vijay\n",
      "enter password : balaji\n",
      "login successful\n"
     ]
    }
   ],
   "source": [
    "#password checking\n",
    "\n",
    "passwd_list = dict(vijay=\"balaji\",balaji=\"vijay\",biju=\"bruno\",bruno=\"biju\")\n",
    "id = input(\"enter login id : \")\n",
    "\n",
    "if id in passwd_list.keys():\n",
    "    passwd = input(\"enter password : \")\n",
    "    if passwd_list.get(id) == passwd:\n",
    "        print(\"login successful\")\n",
    "    else:\n",
    "        print(\"login failed\")\n",
    "else:\n",
    "    print(\"Login id incorrect\")\n"
   ]
  },
  {
   "cell_type": "code",
   "execution_count": 41,
   "metadata": {},
   "outputs": [
    {
     "name": "stdout",
     "output_type": "stream",
     "text": [
      "Enter the year : 2012\n",
      "It is a leap year\n"
     ]
    }
   ],
   "source": [
    "# leap year calculator\n",
    "\n",
    "year = int(input(\"Enter the year : \"))\n",
    "\n",
    "if year % 4 == 0:\n",
    "    if year  % 100 == 0:\n",
    "        if year % 400 == 0:\n",
    "            print(\"It is a leap year\")\n",
    "        else:\n",
    "            print(\"It is not a leap year\")\n",
    "    else:\n",
    "        print(\"It is a leap year\")\n",
    "else:\n",
    "    print(\"not a leap year \")"
   ]
  },
  {
   "cell_type": "markdown",
   "metadata": {},
   "source": [
    "## Project Treasure Hunt "
   ]
  },
  {
   "cell_type": "code",
   "execution_count": null,
   "metadata": {},
   "outputs": [
    {
     "name": "stdout",
     "output_type": "stream",
     "text": [
      "wealth , fame , power . Gol D. Roger , the king of pirates, attained everything this world has to offer.\n",
      "The words he uttered just before his death drove people to the seas.\n",
      "My treasure? If you want it, you can have it!\n",
      "find it! I left everything that world has to offer there!\n",
      "\n",
      "          ___               ____  _               \n",
      "         / _ \\ _ __   ___  |  _ \\(_) ___  ___ ___ \n",
      "        | | | | '_ \\ / _ \\ | |_) | |/ _ \\/ __/ _ \\\n",
      "        | |_| | | | |  __/ |  __/| |  __/ (_|  __/\n",
      "         \\___/|_| |_|\\___| |_|   |_|\\___|\\___\\___|\n",
      "\n",
      "        \n",
      "\n",
      "Hi, Monkey D. Luffy.\n",
      "you want to become Pirate King , right?\n",
      "\n"
     ]
    }
   ],
   "source": [
    "from time import sleep\n",
    "import ascii_magic\n",
    "\n",
    "def pic_roger():\n",
    "    out = ascii_magic.from_image_file(\"/home/kyubi/python/practice/projects/roger.jpeg\",columns = 150, char = \"#\")\n",
    "    ascii_magic.to_terminal(out)\n",
    "    \n",
    "pic_roger()    \n",
    "\n",
    "def luffy():\n",
    "    out2 = ascii_magic.from_image_file(\"/home/kyubi/python/practice/projects/luffy.jpeg\",columns = 150, char = \"#\")\n",
    "    ascii_magic.to_terminal(out2)\n",
    "    \n",
    "def intro():\n",
    "    line_1 = \"wealth , fame , power . Gol D. Roger , the king of pirates, attained everything this world has to offer.\\n\"\n",
    "    line_2 = \"The words he uttered just before his death drove people to the seas.\\n\"\n",
    "    line_3 = \"My treasure? If you want it, you can have it!\\n\"\n",
    "    line_4 = \"find it! I left everything that world has to offer there!\\n\"\n",
    "    for x in (line_1,line_2,line_3,line_4):\n",
    "        print (x,end = \"\")\n",
    "        sleep(1.3)\n",
    "\n",
    "intro()\n",
    "\n",
    "def banner():\n",
    "    print(\"\"\"\n",
    "          ___               ____  _               \n",
    "         / _ \\ _ __   ___  |  _ \\(_) ___  ___ ___ \n",
    "        | | | | '_ \\ / _ \\ | |_) | |/ _ \\/ __/ _ \\\\\n",
    "        | |_| | | | |  __/ |  __/| |  __/ (_|  __/\n",
    "         \\___/|_| |_|\\___| |_|   |_|\\___|\\___\\___|\n",
    "\n",
    "        \"\"\")\n",
    "\n",
    "banner()\n",
    "\n",
    "\n",
    "print(\"\"\"\n",
    "Hi, Monkey D. Luffy.\n",
    "you want to become Pirate King , right?\n",
    "\"\"\")\n",
    "\n",
    "if input(\"[y/n]\") == 'y':\n",
    "    print(\"Great, your are reckless young brat!! \")\n",
    "    if input(\"Go to Alabasta. [y/n]\") == 'y':\n",
    "        print(\"Shit!, Crocodile is here.\")\n",
    "        if input(\"Do you want to fight him. [y/n]\") == 'y':\n",
    "            print(\"You\\'ve won the fight.\\n Your Bounty is 100,000,000 berries\")\n",
    "            if input(\"Go to Water Seven. [y/n]\") == 'y':\n",
    "                print(\"Nico Robin is in danger!\\n Declare war against world government and fight CP9.\")\n",
    "                if input(\"[y/n] ?\") =='y':\n",
    "                    print(\"You made pretty good name ,luffy. you are not a mere pirate anymore, you a super nova.\\n your bounty is 300,000,000 berries.\")\n",
    "                    if input(\"Ace is in Danger! Do want to save Ace? [y/n]\") == 'y':\n",
    "                        print(\"its too late to save Ace.\")\n",
    "                        if input(\"Do you want to train harder?\") =='y' and input(\"call the crew after 2 years\") =='y':\n",
    "                            print(\"You and your crew is on next level.\")\n",
    "                            if input(\"Do you to enter into New world?\") == 'y':\n",
    "                                if input(\"Big Mom wants to take you down! Do you want to take her down? [y/n]\") == 'y':\n",
    "                                    print(\"Great!!!\")\n",
    "                                    print(\"They say that fifth yonko emerged!\")\n",
    "                                    print(\"your bounty is 1.5 billion berries\")\n",
    "                                    if input(\"go to Wano\") == 'y':\n",
    "                                        if input(\"Kaido goes rampage, take him down!\") == 'y':\n",
    "                                            print(\"he kicked your ass\")\n",
    "                                            if input(\"Train much more harder!!\") == 'y':\n",
    "                                                if input(\"Fight kaido again ?\") == 'y':\n",
    "                                                    print(\"you've won\")\n",
    "                                                    if input(\"fight Black Beard ?\") == 'y':\n",
    "                                                        print(\"you won\")\n",
    "                                                        if input(\"go to laughtale?\") == 'y':\n",
    "                                                            print(\"Congrats!!!\")\n",
    "                                                            luffy()\n",
    "                                                            line_5 = \"The New Pirate King, Monkey D. Luffy\"\n",
    "                                                            for x in (line_5):\n",
    "                                                                print (x,end = \"\")\n",
    "                                                                sleep(0.1)\n",
    "                                                    else:\n",
    "                                                        print(\"You are scared of a yonko\")\n",
    "                                                else:\n",
    "                                                    print(\"You are scared of a yonko\")\n",
    "                                            else:\n",
    "                                                print(\"You are scared of a yonko\")\n",
    "                                        else:\n",
    "                                            print(\"You are scared of a yonko\")\n",
    "                                    else:\n",
    "                                        print(\"you've lost on your path\")\n",
    "                                else:\n",
    "                                    print(\"You are scared of a yonko\")\n",
    "                            else:\n",
    "                                print(\"You are scared of a yonko\")\n",
    "                        else:\n",
    "                            print(\"You are not going to the pirate king!\")\n",
    "                    else:\n",
    "                        print(\"You are such a loser\")\n",
    "                else:\n",
    "                    print(\"You are not a good pirate any more . you've lost\")\n",
    "            else:\n",
    "                print(\"You\\'ve lost on the way!\")\n",
    "        else:\n",
    "            print(\"you scaredy cat !!\")\n",
    "    else:\n",
    "        print(\"You\\'ve lost\")\n",
    "else:\n",
    "    print(\"You don't inherit Roger's will\")\n",
    "    "
   ]
  }
 ],
 "metadata": {
  "kernelspec": {
   "display_name": "Python 3",
   "language": "python",
   "name": "python3"
  },
  "language_info": {
   "codemirror_mode": {
    "name": "ipython",
    "version": 3
   },
   "file_extension": ".py",
   "mimetype": "text/x-python",
   "name": "python",
   "nbconvert_exporter": "python",
   "pygments_lexer": "ipython3",
   "version": "3.8.5"
  }
 },
 "nbformat": 4,
 "nbformat_minor": 4
}
