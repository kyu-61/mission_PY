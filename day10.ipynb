{
 "cells": [
  {
   "cell_type": "markdown",
   "id": "3e7defb3",
   "metadata": {},
   "source": [
    "# Day 10"
   ]
  },
  {
   "cell_type": "markdown",
   "id": "c26c83c8",
   "metadata": {},
   "source": [
    "## Days in month"
   ]
  },
  {
   "cell_type": "code",
   "execution_count": 1,
   "id": "561e5acd",
   "metadata": {},
   "outputs": [
    {
     "name": "stdout",
     "output_type": "stream",
     "text": [
      "Enter the year : 2021\n",
      "Enter the month : (in numeric)2\n",
      "28\n"
     ]
    }
   ],
   "source": [
    "# leap year calculator\n",
    "\n",
    "is_leap = True\n",
    "\n",
    "def leap_calc():\n",
    "    if year % 4 == 0:\n",
    "        if year  % 100 == 0:\n",
    "            if year % 400 == 0:\n",
    "                return is_leap\n",
    "            else:\n",
    "                return (not is_leap)\n",
    "        else:\n",
    "            return is_leap\n",
    "    else:\n",
    "        return (not is_leap)\n",
    "    \n",
    "    \n",
    "def days_in_month(year_,month_):\n",
    "    output = leap_calc()\n",
    "    if output:\n",
    "        mnth = [31,29,31,30,31,30,31,31,30,31,30,31]\n",
    "        days = mnth[month_ -1]\n",
    "        print(days)\n",
    "    else:\n",
    "        mnth = [31,28,31,30,31,30,31,31,30,31,30,31]\n",
    "        days = mnth[month_ -1]\n",
    "        print(days)\n",
    "        \n",
    "year = int(input(\"Enter the year : \"))\n",
    "month = int(input(\"Enter the month : (in numeric)\"))\n",
    "days_in_month(year,2)\n"
   ]
  },
  {
   "cell_type": "code",
   "execution_count": 2,
   "id": "3cc327b9",
   "metadata": {},
   "outputs": [],
   "source": [
    "def func():\n",
    "    'This function takes no argument'\n",
    "func()"
   ]
  },
  {
   "cell_type": "code",
   "execution_count": 3,
   "id": "488a9142",
   "metadata": {},
   "outputs": [
    {
     "name": "stdout",
     "output_type": "stream",
     "text": [
      "hello\n",
      "hello\n",
      "ret is: hello\n",
      "other is: None\n"
     ]
    }
   ],
   "source": [
    "#print vs return\n",
    "\n",
    "def printAndReturnNothing():\n",
    "    x = \"hello\"\n",
    "    print(x)\n",
    "\n",
    "def printAndReturn():\n",
    "    x = \"hello\"\n",
    "    print(x)\n",
    "    return x\n",
    "\n",
    "def main():\n",
    "    ret = printAndReturn()\n",
    "    other = printAndReturnNothing()\n",
    "\n",
    "    print(\"ret is: %s\" % ret)\n",
    "    print(\"other is: %s\" % other)\n",
    "    \n",
    "main()"
   ]
  },
  {
   "cell_type": "markdown",
   "id": "32ca2b15",
   "metadata": {},
   "source": [
    "# calculator"
   ]
  },
  {
   "cell_type": "code",
   "execution_count": 6,
   "id": "85725204",
   "metadata": {},
   "outputs": [
    {
     "name": "stdout",
     "output_type": "stream",
     "text": [
      "Enter number 1 :2\n",
      "Enter Operator : +\n",
      "Enter number 2 :2\n",
      "2 + 2 = 4\n",
      "[y/n/exit]exit\n"
     ]
    }
   ],
   "source": [
    "def calculator():\n",
    "    def add(n1,n2):\n",
    "        return num_1 + num_2\n",
    "    def subtract(n1,n2):\n",
    "        return num_1 - num_2\n",
    "    def multiply(n1,n2):\n",
    "        return num_1 * num_2\n",
    "    def divide(n1,n2):\n",
    "        return num_1 / num_2\n",
    "\n",
    "    operation = {\n",
    "        \"+\": add,\n",
    "        \"-\": subtract,\n",
    "        \"*\": multiply,\n",
    "        \"/\": divide,\n",
    "    }\n",
    "    num_1 = int(input(\"Enter number 1 :\"))\n",
    "    opr = input(\"Enter Operator : \")\n",
    "    num_2 = int(input(\"Enter number 2 :\"))\n",
    "    calc = operation[opr]\n",
    "    ans = calc(num_1,num_2)\n",
    "    print(f\"{num_1} {opr} {num_2} = {ans}\")\n",
    "\n",
    "    is_again = True\n",
    "\n",
    "    while is_again:\n",
    "        again = input(\"[y/n/exit]\")\n",
    "        if again == 'y':\n",
    "            num_1 = ans\n",
    "            opr = input(\"Enter Operator : \")\n",
    "            num_2 = int(input(\"Enter number 2 :\"))\n",
    "            calc = operation[opr]\n",
    "            ans = calc(num_1,num_2)\n",
    "            print(f\"{num_1} {opr} {num_2} = {ans}\")    \n",
    "        elif again == 'n':\n",
    "            is_again = False\n",
    "            calculator()\n",
    "        elif again == 'exit':\n",
    "            is_again = False\n",
    "calculator()"
   ]
  }
 ],
 "metadata": {
  "kernelspec": {
   "display_name": "Python 3",
   "language": "python",
   "name": "python3"
  },
  "language_info": {
   "codemirror_mode": {
    "name": "ipython",
    "version": 3
   },
   "file_extension": ".py",
   "mimetype": "text/x-python",
   "name": "python",
   "nbconvert_exporter": "python",
   "pygments_lexer": "ipython3",
   "version": "3.8.5"
  }
 },
 "nbformat": 4,
 "nbformat_minor": 5
}
