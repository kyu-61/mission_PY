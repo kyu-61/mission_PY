{
 "cells": [
  {
   "cell_type": "markdown",
   "metadata": {},
   "source": [
    "# DAY 2"
   ]
  },
  {
   "cell_type": "markdown",
   "metadata": {},
   "source": [
    "### STRING Cont.,"
   ]
  },
  {
   "cell_type": "code",
   "execution_count": 4,
   "metadata": {
    "scrolled": true
   },
   "outputs": [
    {
     "name": "stdout",
     "output_type": "stream",
     "text": [
      "id of literal_1 : 139868523550512\n",
      "id of literal_2 : 139868309895280\n",
      "id of literal_3 : 139868309894512\n"
     ]
    }
   ],
   "source": [
    "literal_1 = \"abc\"                                         # changes to an object results in the chang of object id\n",
    "literal_2 = \"ghi\"\n",
    "id1,id2,id3 = id(literal_1), id(literal_2), id(literal_3)\n",
    "print (\"id of literal_1 : {}\".format(id1))\n",
    "print (\"id of literal_2 : {}\".format(id2))\n",
    "literal_3 = literal_1 + literal_2\n",
    "print (\"id of literal_3 : {}\".format(id3))"
   ]
  },
  {
   "cell_type": "markdown",
   "metadata": {},
   "source": [
    "### STRING METHODS"
   ]
  },
  {
   "cell_type": "code",
   "execution_count": 7,
   "metadata": {},
   "outputs": [
    {
     "data": {
      "text/plain": [
       "['__add__',\n",
       " '__class__',\n",
       " '__contains__',\n",
       " '__delattr__',\n",
       " '__dir__',\n",
       " '__doc__',\n",
       " '__eq__',\n",
       " '__format__',\n",
       " '__ge__',\n",
       " '__getattribute__',\n",
       " '__getitem__',\n",
       " '__getnewargs__',\n",
       " '__gt__',\n",
       " '__hash__',\n",
       " '__init__',\n",
       " '__init_subclass__',\n",
       " '__iter__',\n",
       " '__le__',\n",
       " '__len__',\n",
       " '__lt__',\n",
       " '__mod__',\n",
       " '__mul__',\n",
       " '__ne__',\n",
       " '__new__',\n",
       " '__reduce__',\n",
       " '__reduce_ex__',\n",
       " '__repr__',\n",
       " '__rmod__',\n",
       " '__rmul__',\n",
       " '__setattr__',\n",
       " '__sizeof__',\n",
       " '__str__',\n",
       " '__subclasshook__',\n",
       " 'capitalize',\n",
       " 'casefold',\n",
       " 'center',\n",
       " 'count',\n",
       " 'encode',\n",
       " 'endswith',\n",
       " 'expandtabs',\n",
       " 'find',\n",
       " 'format',\n",
       " 'format_map',\n",
       " 'index',\n",
       " 'isalnum',\n",
       " 'isalpha',\n",
       " 'isascii',\n",
       " 'isdecimal',\n",
       " 'isdigit',\n",
       " 'isidentifier',\n",
       " 'islower',\n",
       " 'isnumeric',\n",
       " 'isprintable',\n",
       " 'isspace',\n",
       " 'istitle',\n",
       " 'isupper',\n",
       " 'join',\n",
       " 'ljust',\n",
       " 'lower',\n",
       " 'lstrip',\n",
       " 'maketrans',\n",
       " 'partition',\n",
       " 'replace',\n",
       " 'rfind',\n",
       " 'rindex',\n",
       " 'rjust',\n",
       " 'rpartition',\n",
       " 'rsplit',\n",
       " 'rstrip',\n",
       " 'split',\n",
       " 'splitlines',\n",
       " 'startswith',\n",
       " 'strip',\n",
       " 'swapcase',\n",
       " 'title',\n",
       " 'translate',\n",
       " 'upper',\n",
       " 'zfill']"
      ]
     },
     "execution_count": 7,
     "metadata": {},
     "output_type": "execute_result"
    }
   ],
   "source": [
    "dir(\"any_string\")          # dir() tries to return a valid list of attributes of the object it is called upon"
   ]
  },
  {
   "cell_type": "code",
   "execution_count": 21,
   "metadata": {},
   "outputs": [
    {
     "name": "stdout",
     "output_type": "stream",
     "text": [
      "capitalize() : Vijay\n",
      "casefold() : biju\n",
      "center() : *****vijay*****\n",
      "count() : 1\n",
      "encode() : b'My name is St\\xc3\\xa5le'\n",
      "endswith() : True\n",
      "expandtabs() : v i j a y\n",
      "find() : 2\n",
      "format() : vijay\n",
      "join() : v#i#j#a#y\n",
      "lstrip() : vijay\n",
      "maketrans() : vijsy\n",
      "partition() : ('I love apples, apple ', 'are', ' my favorite fruit')\n",
      "replace() : vikay\n",
      "split() : ['I', 'love', 'apples,', 'apple', 'are', 'my', 'favorite', 'fruit']\n",
      "strip() : vijay\n",
      "title() : Welcome To My World\n"
     ]
    }
   ],
   "source": [
    "name = \"vijay\"\n",
    "pet_name = \"BIJU\"\n",
    "string = \"I love apples, apple are my favorite fruit\"\n",
    "txt = \"My name is Ståle\"\n",
    "tab = \"v\\ti\\tj\\ta\\ty\"\n",
    "lstrip = \"sasasasa.,.,,.vijay\"\n",
    "strip = \"     vijay      \"\n",
    "trans = name.maketrans(\"a\",\"s\")                   # Returns a translation table to be used in translations\n",
    "text = \"Welcome to my world\"\n",
    "\n",
    "print (\"capitalize() : \" + name.capitalize())     # to capitalize the string\n",
    "print (\"casefold() : \" + pet_name.casefold())     # turns upper case to lower case\n",
    "print (\"center() : \" + name.center(15,\"*\"))       # to center the string, arg1 = the empty spaces..arg2 = string to filled in that empty area\n",
    "print (\"count() : \" + str(string.count(\"apple\",0,14))) # returns the number of times a specified value appears in the string. arg1 = str to be counted arg2,3 = start,end\n",
    "print (\"encode() : \" + str(txt.encode()))              #Returns an encoded version of the string\n",
    "print (\"endswith() : \" + str(name.endswith(\"y\"))) # Returns true if the string ends with the specified value\n",
    "print (\"expandtabs() : \" + tab.expandtabs(2))     # Return a copy where all tab characters are expanded using spaces.\n",
    "print (\"find() : \" + str(string.find(\"love\")))    # Return the lowest index in S where substring sub is found eg: string[0]=I ...string[2]=love\n",
    "print (\"format() : {}\".format(name) )             # Formats specified values in a string\n",
    "print (\"join() : \" + \"#\".join(name))              # takes all items in an iterable and joins them into one string.\n",
    "print (\"lstrip() : \" + lstrip.lstrip(\",.sa\"))     # removes any leading characters (space is the default leading character to remove)\n",
    "print (\"maketrans() : \" + name.translate(trans))  # Returns a translated string\n",
    "print (\"partition() : \" + str(string.partition(\"are\")))  # method searches for a specified string, and splits the string into a tuple containing three elements.\n",
    "print (\"replace() : \" + name.replace(\"j\",\"k\"))    # Returns a string where a specified value is replaced with a specified value\n",
    "print (\"split() : \" + str(string.split()))        # method splits a string into a list.\n",
    "print (\"strip() : \" + strip.strip())              #  method removes any leading (spaces at the beginning) and trailing (spaces at the end) characters \n",
    "print (\"title() : \" + text.title())               # makes the first letter of all words to capital"
   ]
  }
 ],
 "metadata": {
  "kernelspec": {
   "display_name": "Python 3",
   "language": "python",
   "name": "python3"
  },
  "language_info": {
   "codemirror_mode": {
    "name": "ipython",
    "version": 3
   },
   "file_extension": ".py",
   "mimetype": "text/x-python",
   "name": "python",
   "nbconvert_exporter": "python",
   "pygments_lexer": "ipython3",
   "version": "3.8.5"
  }
 },
 "nbformat": 4,
 "nbformat_minor": 4
}
