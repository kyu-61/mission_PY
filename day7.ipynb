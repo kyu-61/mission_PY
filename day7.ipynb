{
 "cells": [
  {
   "cell_type": "markdown",
   "metadata": {},
   "source": [
    "#  Day 7"
   ]
  },
  {
   "cell_type": "markdown",
   "metadata": {},
   "source": [
    "### Defining and Calling Python Functions\n",
    "\n",
    "#### Funtions:\n",
    "        syntax - func_name followed by ():\n",
    "        eg: len() - for getting length // built-in function\n",
    "        To create our own funtion, we need to define it. we can define a funtion with <b>def</b> keyword.\n",
    "        eg: def sample():\n",
    "                print(\"Hello\")\n",
    "        The associated lines of the particular functions are indented.\n",
    "        To activate the funtion we need to call it. we can call it by sample()"
   ]
  },
  {
   "cell_type": "code",
   "execution_count": 1,
   "metadata": {},
   "outputs": [
    {
     "name": "stdout",
     "output_type": "stream",
     "text": [
      "8\n"
     ]
    }
   ],
   "source": [
    "def add():\n",
    "    print(5+3)\n",
    "add()"
   ]
  },
  {
   "cell_type": "markdown",
   "metadata": {},
   "source": [
    "## Hang man"
   ]
  },
  {
   "cell_type": "code",
   "execution_count": 11,
   "metadata": {},
   "outputs": [
    {
     "name": "stdout",
     "output_type": "stream",
     "text": [
      "['_', '_', '_', '_', '_', '_']\n",
      "Enter a letter : i\n",
      "['_', '_', '_', '_', '_', 'i']\n"
     ]
    }
   ],
   "source": [
    "import random\n",
    "\n",
    "list_ = [\"vijay\",\"balaji\",\"biju\"]\n",
    "sel_word = random.choice(list_)\n",
    "dash = []\n",
    "for d in sel_word:\n",
    "    dash.append(\"_\")\n",
    "print(dash)\n",
    "\n",
    "guess = input(\"Enter a letter : \")\n",
    "\n",
    "for i in range(len(sel_word)):\n",
    "    letter = sel_word[i]\n",
    "    if guess == letter:\n",
    "        dash[i] = letter\n",
    "print(dash)        "
   ]
  }
 ],
 "metadata": {
  "kernelspec": {
   "display_name": "Python 3",
   "language": "python",
   "name": "python3"
  },
  "language_info": {
   "codemirror_mode": {
    "name": "ipython",
    "version": 3
   },
   "file_extension": ".py",
   "mimetype": "text/x-python",
   "name": "python",
   "nbconvert_exporter": "python",
   "pygments_lexer": "ipython3",
   "version": "3.8.5"
  }
 },
 "nbformat": 4,
 "nbformat_minor": 4
}
