{
 "cells": [
  {
   "cell_type": "markdown",
   "metadata": {},
   "source": [
    "# DAY 3\n",
    "\n",
    "Text Type: \tstr\\\n",
    "Numeric Types: \tint, float, complex\\\n",
    "Sequence Types: \tlist, tuple, range\\\n",
    "Mapping Type: \tdict\\\n",
    "Set Types: \tset, frozenset\\\n",
    "Boolean Type: \tbool\\\n",
    "Binary Types: \tbytes, bytearray, memoryview"
   ]
  },
  {
   "cell_type": "code",
   "execution_count": 12,
   "metadata": {},
   "outputs": [
    {
     "name": "stdout",
     "output_type": "stream",
     "text": [
      "Hello\n",
      "5\n",
      "20.0\n",
      "(4+5j)\n",
      "['vijay', 'balaji', 'biju']\n",
      "('vijay', 'balaji', 'biju')\n",
      "range(0, 10)\n",
      "{'name': 'vijay', 'age': 20}\n",
      "{'biju', 'balaji', 'vijay'}\n",
      "frozenset({'biju', 'balaji', 'vijay'})\n",
      "True\n",
      "b'\\x00'\n",
      "bytearray(b'\\x00\\x00\\x00\\x00\\x00\\x00\\x00')\n",
      "<memory at 0x7fa227077040>\n"
     ]
    }
   ],
   "source": [
    "a = str(\"Hello\")  # assigning a string value by specifying the type\n",
    "b = int(5)  # assigning a int value by specifying the type\n",
    "c = float(20.0)  # assigning a float value by specifying the type\n",
    "d = complex(4, 5)  # assigning a complex value by specifying the type\n",
    "e = list(('vijay', 'balaji',\n",
    "          'biju'))  # assigning a list value by specifying the type\n",
    "f = tuple(('vijay', 'balaji',\n",
    "           'biju'))  # assigning a list value by specifying the type\n",
    "g = range(10)  # to assign a range of numbers\n",
    "h = dict(name=\"vijay\",\n",
    "         age=20)  # assigning a dictionary value by specifying the type\n",
    "i = set(('vijay', 'balaji', 'biju'))\n",
    "j = frozenset(('vijay', 'balaji', 'biju'))\n",
    "k = bool(5)\n",
    "l = bytes(1)\n",
    "m = bytearray(7)\n",
    "n = memoryview(l)\n",
    "\n",
    "print(a)\n",
    "print(b)\n",
    "print(c)\n",
    "print(d)\n",
    "print(e)\n",
    "print(f)\n",
    "print(g)\n",
    "print(h)\n",
    "print(i)\n",
    "print(j)\n",
    "print(k)\n",
    "print(l)\n",
    "print(m)\n",
    "print(n)"
   ]
  },
  {
   "cell_type": "markdown",
   "metadata": {},
   "source": [
    "### TypeError\n",
    "\n",
    "The TypeError is thrown when an operation or function is applied to an object of an inappropriate type.\n",
    "\n",
    "### Type Checking \n",
    "Python is dynamic typed language. type checking is done at run time. \n",
    "   - types of the object can be checked using type() .\n",
    "   - isinstance() is used to check cross check the tyep and return the result in boolean value.\n",
    "   \n",
    "### Type Conversion\n",
    "We can convert the data type of an object into another by specifying the type over the other.\\\n",
    "Type conversion is of 2 types\\\n",
    "   1. implicit : interpreter alone makes the conversion without any user involvement.\n",
    "   2. explicit : changing the type manually"
   ]
  },
  {
   "cell_type": "code",
   "execution_count": 20,
   "metadata": {},
   "outputs": [
    {
     "name": "stdout",
     "output_type": "stream",
     "text": [
      "type()     : <class 'str'> \n",
      "instance() : True\n",
      "15.0\n",
      "(15+0j)\n"
     ]
    }
   ],
   "source": [
    "name = \"kyubi\"\n",
    "print(\"type()     : {} \".format(type(name)))\n",
    "print(\"instance() : \" + str(isinstance(name, str)))\n",
    "\n",
    "one = 5\n",
    "two = 10.0\n",
    "print(one + two)  # implicit conversion\n",
    "\n",
    "n_one = float(one)\n",
    "n_two = complex(two)  # explicit conversion\n",
    "print(n_one + n_two)"
   ]
  },
  {
   "cell_type": "markdown",
   "metadata": {},
   "source": [
    "### Operations\n",
    "\n",
    "Operaions involve operands and operators\n",
    " * operator:\n",
    "     - the one which is used to carry the operations \n",
    "     - operators are of 8 types.\n",
    "         - arithmetic opr - + ,- ,* ,/ ,% ,** , //\n",
    "         - assignment opr - =, +=, -=, *=, /=, %=, **= ,^=, //=, >>= ,<<=\n",
    "         - comparison opr - >, < , >= , <= , == , !=\n",
    "         - logical opr - and, or , not \n",
    "         - membership opr - in , not in\n",
    "         - identity opr - is, is not\n",
    "         - bitwise opr - & ,| ,^ ,~ ,<< ,>>\n",
    "         \n",
    " * operands - it is the one in which the operation is performed "
   ]
  },
  {
   "cell_type": "code",
   "execution_count": 35,
   "metadata": {},
   "outputs": [
    {
     "name": "stdout",
     "output_type": "stream",
     "text": [
      "add: 15\n",
      "sub: -5\n",
      "mul: 50\n",
      "div: 0.5\n",
      "mod: 0\n",
      "pow: 9765625\n",
      "floor div: 0\n"
     ]
    }
   ],
   "source": [
    "# arithmetic opertors\n",
    "\n",
    "opr1 = 5\n",
    "opr2 = 10\n",
    "\n",
    "print(\"add: {}\".format(opr1 + opr2))\n",
    "print(\"sub: {}\".format(opr1 - opr2))\n",
    "print(\"mul: {}\".format(opr1 * opr2))\n",
    "print(\"div: {}\".format(opr1 / opr2))\n",
    "print(\"mod: {}\".format(opr2 % opr1))\n",
    "print(\"pow: {}\".format(opr1**opr2))\n",
    "print(\"floor div: {}\".format(\n",
    "    opr1 // opr2))  #returns the round of quotient. [floor(r) = n, n <= r]"
   ]
  },
  {
   "cell_type": "code",
   "execution_count": 36,
   "metadata": {},
   "outputs": [
    {
     "name": "stdout",
     "output_type": "stream",
     "text": [
      "6\n",
      "9\n"
     ]
    }
   ],
   "source": [
    "#assignment operators\n",
    "\n",
    "opr1 += 1\n",
    "opr2 -= 1\n",
    "\n",
    "print(opr1)\n",
    "print(opr2)"
   ]
  },
  {
   "cell_type": "code",
   "execution_count": 38,
   "metadata": {},
   "outputs": [
    {
     "name": "stdout",
     "output_type": "stream",
     "text": [
      "True\n",
      "True\n",
      "False\n",
      "True\n"
     ]
    }
   ],
   "source": [
    "# comparison operator\n",
    "\n",
    "co1 = 10\n",
    "co2 = 10\n",
    "co3 = 2\n",
    "co4 = 5\n",
    "\n",
    "print(co1 == co2)\n",
    "print(co1 >= co4)\n",
    "print(co4 <= co3)\n",
    "print(co1 != co3)"
   ]
  },
  {
   "cell_type": "code",
   "execution_count": 41,
   "metadata": {},
   "outputs": [
    {
     "name": "stdout",
     "output_type": "stream",
     "text": [
      "True\n",
      "True\n",
      "False\n"
     ]
    }
   ],
   "source": [
    "# logical operators\n",
    "\n",
    "print(co1 == co2 and co1 > co3)\n",
    "print(co1 == co2 or co1 > co3)\n",
    "print(not (co1))"
   ]
  },
  {
   "cell_type": "code",
   "execution_count": 46,
   "metadata": {},
   "outputs": [
    {
     "name": "stdout",
     "output_type": "stream",
     "text": [
      "True\n",
      "True\n"
     ]
    }
   ],
   "source": [
    "# membership operator\n",
    "\n",
    "m1 = ['vijay', 'balaji', 'biju']\n",
    "print('vijay' in m1)\n",
    "print('kyubi' not in m1)"
   ]
  },
  {
   "cell_type": "code",
   "execution_count": 49,
   "metadata": {},
   "outputs": [
    {
     "name": "stdout",
     "output_type": "stream",
     "text": [
      "True\n",
      "False\n"
     ]
    }
   ],
   "source": [
    "# identity operator\n",
    "\n",
    "print(co1 is co2)\n",
    "print(co2 is not co1)"
   ]
  },
  {
   "cell_type": "code",
   "execution_count": 58,
   "metadata": {},
   "outputs": [],
   "source": [
    "# bitwise operator - Bitwise operators are used to compare (binary) numbers\n",
    "#doubt"
   ]
  },
  {
   "cell_type": "markdown",
   "metadata": {},
   "source": [
    "# BMI Calculator"
   ]
  },
  {
   "cell_type": "markdown",
   "metadata": {},
   "source": [
    "### Notes:\n",
    "    1ft = 0.3048 Meters\n",
    "    1in = 0.0254 Meters\n",
    "    1kg = 2.2046226 lb   \n",
    "    1lb = 0.4535 kg\n",
    "    BMI = (Weight in Kilograms / (Height in Meters x Height in Meters))\n",
    "    \n",
    "    BMI Categories:\n",
    "        Underweight = <18.5\n",
    "        Normal weight = 18.5–24.9\n",
    "        Overweight = 25–29.9\n",
    "        Obesity = BMI of 30 or greater \n"
   ]
  },
  {
   "cell_type": "code",
   "execution_count": 18,
   "metadata": {},
   "outputs": [
    {
     "name": "stdout",
     "output_type": "stream",
     "text": [
      "\u001b[94m\n",
      "     ____  __  __ ___             _      \n",
      "    | __ )|  \\/  |_ _|   ___ __ _| | ___ \n",
      "    |  _ \\| |\\/| || |   / __/ _` | |/ __|\n",
      "    | |_) | |  | || |  | (_| (_| | | (__ \n",
      "    |____/|_|  |_|___|  \\___\\__,_|_|\\___|                                 \n",
      "    \n",
      "Enter your height (ft.in) : 5.11\n",
      "\u001b[93m >>> The Height you've entered : \u001b[0m5.11\n",
      "\n",
      "Enter your weight (Kg) in : 66\n",
      "\u001b[93m >>> The Weight you've entered : \u001b[0m66\n",
      "\n",
      "\n",
      "\u001b[93mYour Height in meter : \u001b[0m1.8034 m\n",
      "\n",
      "\n",
      "\u001b[93mYour BMI value : \u001b[0m20.3\n",
      "\n",
      "\n",
      " >>> 🤩 \u001b[92mbuddy, you are fit !!!\n"
     ]
    }
   ],
   "source": [
    "G = '\\033[92m'  # green\n",
    "Y = '\\033[93m'  # yellow\n",
    "B = '\\033[94m'  # blue\n",
    "R = '\\033[91m'  # red\n",
    "W = '\\033[0m'   # white\n",
    "\n",
    "def banner():\n",
    "    print(\"\"\"%s\n",
    "     ____  __  __ ___             _      \n",
    "    | __ )|  \\/  |_ _|   ___ __ _| | ___ \n",
    "    |  _ \\| |\\/| || |   / __/ _` | |/ __|\n",
    "    | |_) | |  | || |  | (_| (_| | | (__ \n",
    "    |____/|_|  |_|___|  \\___\\__,_|_|\\___|                                 \n",
    "    \"\"\" % (B))\n",
    "\n",
    "banner()\n",
    "\n",
    "h = input(\"%sEnter your height (ft.in) : %s\" % (Y,W))\n",
    "print(\"%s >>> The Height you've entered : %s{}\\n\".format(h) % (Y,W))\n",
    "w = input(\"%sEnter your weight (Kg) in : %s\" % (Y,W))\n",
    "print(\"%s >>> The Weight you've entered : %s{}\\n\".format(w) % (Y,W))\n",
    "print()\n",
    "\n",
    "split_h = h.split(\".\")                                          # split h to calc feet and inch separately\n",
    "feet = split_h[0]                                               \n",
    "inch = split_h[1]\n",
    "meter_ft = int(feet) * 0.3048\n",
    "meter_in = int(inch) * 0.0254\n",
    "meter = float(meter_ft + meter_in)\n",
    "print(f\"%sYour Height in meter : %s{meter} m\\n\" % (Y,W))\n",
    "print()\n",
    "    \n",
    "bmi_ = float(w) / (meter*meter)\n",
    "bmi_ = float(round(bmi_,1))         # round is used to round off the decimal to 1 decimal place,arg2 = no.of.place\n",
    "print(f\"%sYour BMI value : %s{bmi_}\\n\" % (Y,W))\n",
    "print()\n",
    "\n",
    "if bmi_ <= 18.5:\n",
    "    print(\" >>> 😕 %sbuddy, you should gain some weight\" %(W))\n",
    "elif bmi_ >= 25:\n",
    "    print(\" >>> 😑 %sbuddy, you should drop some weight\" %(W))\n",
    "else:\n",
    "    print(\" >>> 🤩 %sbuddy, you are fit !!!\" %(G))\n",
    "\n"
   ]
  },
  {
   "cell_type": "markdown",
   "metadata": {},
   "source": [
    "# Tip Calculator\n",
    "\n",
    "### Notes:\n",
    "\n",
    "    1. Bill amount\n",
    "    2. tips % on the bill\n",
    "    3. total person and their shares"
   ]
  },
  {
   "cell_type": "code",
   "execution_count": 22,
   "metadata": {},
   "outputs": [
    {
     "name": "stdout",
     "output_type": "stream",
     "text": [
      "Enter Bill amount : 100\n",
      "Enter tip % : 20\n",
      "Enter total no. of person : 4\n",
      "\n",
      "Your tips amount : 20.0\n",
      "Your total bill : 120\n",
      "Total per person : 30.0\n"
     ]
    }
   ],
   "source": [
    "bill = int(input(\"Enter Bill amount : \"))\n",
    "tips = int(input(\"Enter tip % : \"))\n",
    "person = int(input(\"Enter total no. of person : \"))\n",
    "print()\n",
    "\n",
    "tips_ = (tips / 100) * bill\n",
    "total_bill = bill + tips\n",
    "shares = total_bill / person\n",
    "\n",
    "print(f\"Your tips amount : {tips_}\")\n",
    "print(f\"Your total bill : {total_bill}\")\n",
    "print(f\"Total per person : {shares}\")"
   ]
  }
 ],
 "metadata": {
  "kernelspec": {
   "display_name": "Python 3",
   "language": "python",
   "name": "python3"
  },
  "language_info": {
   "codemirror_mode": {
    "name": "ipython",
    "version": 3
   },
   "file_extension": ".py",
   "mimetype": "text/x-python",
   "name": "python",
   "nbconvert_exporter": "python",
   "pygments_lexer": "ipython3",
   "version": "3.8.5"
  }
 },
 "nbformat": 4,
 "nbformat_minor": 4
}
